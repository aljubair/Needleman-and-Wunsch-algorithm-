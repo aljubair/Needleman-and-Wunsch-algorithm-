{
 "cells": [
  {
   "cell_type": "code",
   "execution_count": 1,
   "id": "0136ea75",
   "metadata": {},
   "outputs": [],
   "source": [
    "import numpy as np"
   ]
  },
  {
   "cell_type": "code",
   "execution_count": 2,
   "id": "35eb51a6",
   "metadata": {},
   "outputs": [],
   "source": [
    "#Ask for sequences from the user\n",
    "#sequence_1 = input(\"Enter or paste sequence 1:\")\n",
    "#sequence_2 = input(\"Enter or paste sequence 2:\")"
   ]
  },
  {
   "cell_type": "code",
   "execution_count": 3,
   "id": "e590ded3",
   "metadata": {},
   "outputs": [],
   "source": [
    "sequence_1 = \"ATCGT\"\n",
    "sequence_2 = \"ACGT\""
   ]
  },
  {
   "cell_type": "code",
   "execution_count": 4,
   "id": "d586cc3e",
   "metadata": {},
   "outputs": [],
   "source": [
    "#Creat Matrices\n",
    "main_matrix = np.zeros((len(sequence_1)+1,len(sequence_2)+1))"
   ]
  },
  {
   "cell_type": "code",
   "execution_count": 5,
   "id": "1850af9d",
   "metadata": {},
   "outputs": [],
   "source": [
    "match_checker_matrix = np.zeros((len(sequence_1),len(sequence_2)))"
   ]
  },
  {
   "cell_type": "code",
   "execution_count": 6,
   "id": "17a41738",
   "metadata": {},
   "outputs": [
    {
     "name": "stdout",
     "output_type": "stream",
     "text": [
      "[[0. 0. 0. 0. 0.]\n",
      " [0. 0. 0. 0. 0.]\n",
      " [0. 0. 0. 0. 0.]\n",
      " [0. 0. 0. 0. 0.]\n",
      " [0. 0. 0. 0. 0.]\n",
      " [0. 0. 0. 0. 0.]]\n"
     ]
    }
   ],
   "source": [
    "print(main_matrix)"
   ]
  },
  {
   "cell_type": "code",
   "execution_count": 7,
   "id": "302c6344",
   "metadata": {},
   "outputs": [
    {
     "name": "stdout",
     "output_type": "stream",
     "text": [
      "[[0. 0. 0. 0.]\n",
      " [0. 0. 0. 0.]\n",
      " [0. 0. 0. 0.]\n",
      " [0. 0. 0. 0.]\n",
      " [0. 0. 0. 0.]]\n"
     ]
    }
   ],
   "source": [
    "print(match_checker_matrix)"
   ]
  },
  {
   "cell_type": "code",
   "execution_count": 8,
   "id": "d1bf0d7c",
   "metadata": {},
   "outputs": [],
   "source": [
    "# Providing the scores for match ,mismatch and gap\n",
    "match_reward = 5\n",
    "mismatch_penalty = -3\n",
    "gap_penalty = -4"
   ]
  },
  {
   "cell_type": "code",
   "execution_count": 9,
   "id": "37e49de8",
   "metadata": {},
   "outputs": [],
   "source": [
    "#Fill the match checker matrix accrording to match or mismatch\n",
    "for i in range(len(sequence_1)):\n",
    "    for j in range(len(sequence_2)):\n",
    "        if sequence_1[i] == sequence_2[j]:\n",
    "            match_checker_matrix[i][j]= match_reward\n",
    "        else:\n",
    "            match_checker_matrix[i][j]= mismatch_penalty"
   ]
  },
  {
   "cell_type": "code",
   "execution_count": 10,
   "id": "e72f6e17",
   "metadata": {},
   "outputs": [
    {
     "name": "stdout",
     "output_type": "stream",
     "text": [
      "[[ 5. -3. -3. -3.]\n",
      " [-3. -3. -3.  5.]\n",
      " [-3.  5. -3. -3.]\n",
      " [-3. -3.  5. -3.]\n",
      " [-3. -3. -3.  5.]]\n"
     ]
    }
   ],
   "source": [
    "print(match_checker_matrix)"
   ]
  },
  {
   "cell_type": "code",
   "execution_count": 11,
   "id": "e9e1b445",
   "metadata": {},
   "outputs": [],
   "source": [
    "#Filling up the matrix using Needleman_Wunsch algorithm\n",
    "#STEP 1 : Initialisation\n",
    "for i in range(len(sequence_1)+1):\n",
    "    main_matrix[i][0] = i*gap_penalty\n",
    "for j in range(len(sequence_2)+1):\n",
    "    main_matrix[0][j] = j * gap_penalty"
   ]
  },
  {
   "cell_type": "code",
   "execution_count": 12,
   "id": "42452650",
   "metadata": {},
   "outputs": [
    {
     "name": "stdout",
     "output_type": "stream",
     "text": [
      "[[  0.  -4.  -8. -12. -16.]\n",
      " [ -4.   0.   0.   0.   0.]\n",
      " [ -8.   0.   0.   0.   0.]\n",
      " [-12.   0.   0.   0.   0.]\n",
      " [-16.   0.   0.   0.   0.]\n",
      " [-20.   0.   0.   0.   0.]]\n"
     ]
    }
   ],
   "source": [
    "print(main_matrix)"
   ]
  },
  {
   "cell_type": "code",
   "execution_count": 13,
   "id": "0d79b884",
   "metadata": {},
   "outputs": [],
   "source": [
    "#STEP 2 : Matrix Filling\n",
    "for i in range(1,len(sequence_1)+1):\n",
    "    for j in range(1,len(sequence_2)+1):\n",
    "        main_matrix[i][j] = max(main_matrix[i-1][j-1]+match_checker_matrix[i-1][j-1],\n",
    "                                main_matrix[i-1][j]+gap_penalty,\n",
    "                                main_matrix[i][j-1]+ gap_penalty)"
   ]
  },
  {
   "cell_type": "code",
   "execution_count": 14,
   "id": "e5c0491c",
   "metadata": {},
   "outputs": [
    {
     "name": "stdout",
     "output_type": "stream",
     "text": [
      "[[  0.  -4.  -8. -12. -16.]\n",
      " [ -4.   5.   1.  -3.  -7.]\n",
      " [ -8.   1.   2.  -2.   2.]\n",
      " [-12.  -3.   6.   2.  -2.]\n",
      " [-16.  -7.   2.  11.   7.]\n",
      " [-20. -11.  -2.   7.  16.]]\n"
     ]
    }
   ],
   "source": [
    "print(main_matrix)"
   ]
  },
  {
   "cell_type": "code",
   "execution_count": 15,
   "id": "3752e040",
   "metadata": {},
   "outputs": [],
   "source": [
    "# STEP 3 : Traceback\n",
    "\n",
    "aligned_1 = \"\"\n",
    "aligned_2 = \"\"\n",
    "\n",
    "ti = len(sequence_1)\n",
    "tj = len(sequence_2)"
   ]
  },
  {
   "cell_type": "code",
   "execution_count": 16,
   "id": "2442b989",
   "metadata": {},
   "outputs": [],
   "source": [
    "while(ti >0 and tj > 0):\n",
    "\n",
    "    if (ti >0 and tj > 0 and main_matrix[ti][tj] == main_matrix[ti-1][tj-1]+ match_checker_matrix[ti-1][tj-1]):\n",
    "\n",
    "        aligned_1 = sequence_1[ti-1] + aligned_1\n",
    "        aligned_2 = sequence_2[tj-1] + aligned_2\n",
    "\n",
    "        ti = ti - 1\n",
    "        tj = tj - 1\n",
    "    \n",
    "    elif(ti > 0 and main_matrix[ti][tj] == main_matrix[ti-1][tj] + gap_penalty):\n",
    "        aligned_1 = sequence_1[ti-1] + aligned_1\n",
    "        aligned_2 = \"-\" + aligned_2\n",
    "\n",
    "        ti = ti -1\n",
    "    else:\n",
    "        aligned_1 = \"-\" + aligned_1\n",
    "        aligned_2 = sequence_2[tj-1] + aligned_2\n",
    "\n",
    "        tj = tj - 1"
   ]
  },
  {
   "cell_type": "code",
   "execution_count": 17,
   "id": "49d073c5",
   "metadata": {},
   "outputs": [
    {
     "name": "stdout",
     "output_type": "stream",
     "text": [
      "ATCGT\n",
      "A-CGT\n"
     ]
    }
   ],
   "source": [
    "print(aligned_1)\n",
    "print(aligned_2)"
   ]
  },
  {
   "cell_type": "code",
   "execution_count": 18,
   "id": "1dbf3951",
   "metadata": {},
   "outputs": [
    {
     "name": "stdout",
     "output_type": "stream",
     "text": [
      "ATCGT\n",
      "A-CGT\n"
     ]
    }
   ],
   "source": [
    "# Importing Modules\n",
    "import numpy as np\n",
    "\n",
    "sequence_1 = \"ATCGT\"\n",
    "sequence_2 = \"ACGT\"\n",
    "\n",
    "#Creat Matrices\n",
    "main_matrix = np.zeros((len(sequence_1)+1,len(sequence_2)+1))\n",
    "match_checker_matrix = np.zeros((len(sequence_1),len(sequence_2)))\n",
    "\n",
    "# Providing the scores for match ,mismatch and gap\n",
    "match_reward = 1\n",
    "mismatch_penalty = -1\n",
    "gap_penalty = -2\n",
    "\n",
    "#Fill the match checker matrix accrording to match or mismatch\n",
    "for i in range(len(sequence_1)):\n",
    "    for j in range(len(sequence_2)):\n",
    "        if sequence_1[i] == sequence_2[j]:\n",
    "            match_checker_matrix[i][j]= match_reward\n",
    "        else:\n",
    "            match_checker_matrix[i][j]= mismatch_penalty\n",
    "\n",
    "#Filling up the matrix using Needleman_Wunsch algorithm\n",
    "#STEP 1 : Initialisation\n",
    "for i in range(len(sequence_1)+1):\n",
    "    main_matrix[i][0] = i*gap_penalty\n",
    "for j in range(len(sequence_2)+1):\n",
    "    main_matrix[0][j] = j * gap_penalty\n",
    "\n",
    "#STEP 2 : Matrix Filling\n",
    "for i in range(1,len(sequence_1)+1):\n",
    "    for j in range(1,len(sequence_2)+1):\n",
    "        main_matrix[i][j] = max(main_matrix[i-1][j-1]+match_checker_matrix[i-1][j-1],\n",
    "                                main_matrix[i-1][j]+gap_penalty,\n",
    "                                main_matrix[i][j-1]+ gap_penalty)\n",
    "\n",
    "#print(main_matrix)\n",
    "\n",
    "# STEP 3 : Traceback\n",
    "aligned_1 = \"\"\n",
    "aligned_2 = \"\"\n",
    "ti = len(sequence_1)\n",
    "tj = len(sequence_2)\n",
    "\n",
    "while(ti >0 and tj > 0):\n",
    "\n",
    "    if (ti >0 and tj > 0 and main_matrix[ti][tj] == main_matrix[ti-1][tj-1]+ match_checker_matrix[ti-1][tj-1]):\n",
    "\n",
    "        aligned_1 = sequence_1[ti-1] + aligned_1\n",
    "        aligned_2 = sequence_2[tj-1] + aligned_2\n",
    "\n",
    "        ti = ti - 1\n",
    "        tj = tj - 1\n",
    "    \n",
    "    elif(ti > 0 and main_matrix[ti][tj] == main_matrix[ti-1][tj] + gap_penalty):\n",
    "        aligned_1 = sequence_1[ti-1] + aligned_1\n",
    "        aligned_2 = \"-\" + aligned_2\n",
    "\n",
    "        ti = ti -1\n",
    "    else:\n",
    "        aligned_1 = \"-\" + aligned_1\n",
    "        aligned_2 = sequence_2[tj-1] + aligned_2\n",
    "\n",
    "        tj = tj - 1\n",
    "\n",
    "print(aligned_1)\n",
    "print(aligned_2)"
   ]
  },
  {
   "cell_type": "code",
   "execution_count": null,
   "id": "be0e90a6",
   "metadata": {},
   "outputs": [],
   "source": []
  }
 ],
 "metadata": {
  "kernelspec": {
   "display_name": "py",
   "language": "python",
   "name": "py"
  },
  "language_info": {
   "codemirror_mode": {
    "name": "ipython",
    "version": 3
   },
   "file_extension": ".py",
   "mimetype": "text/x-python",
   "name": "python",
   "nbconvert_exporter": "python",
   "pygments_lexer": "ipython3",
   "version": "3.11.9"
  }
 },
 "nbformat": 4,
 "nbformat_minor": 5
}
